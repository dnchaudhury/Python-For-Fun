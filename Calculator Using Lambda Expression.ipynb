{
 "cells": [
  {
   "cell_type": "code",
   "execution_count": 8,
   "metadata": {},
   "outputs": [
    {
     "name": "stdout",
     "output_type": "stream",
     "text": [
      "Select operation.\n",
      "1.Add\n",
      "2.Subtract\n",
      "3.Multiply\n",
      "4.Divide\n",
      "5.Square Root\n",
      "6.Power of any Number\n",
      "Enter choice(1/2/3/4/5/6): 2\n",
      "Enter first number: 25\n",
      "Enter second number: 25\n",
      "0.0\n"
     ]
    }
   ],
   "source": [
    "add=lambda x,y:x+y\n",
    "substract=lambda x,y:x-y\n",
    "multiply=lambda x,y:x*y\n",
    "divide=lambda x,y:x/y\n",
    "square_root=lambda x:x**0.5\n",
    "power=lambda x,y:x**y\n",
    "\n",
    "print(\"Select operation.\")\n",
    "print(\"1.Add\")\n",
    "print(\"2.Subtract\")\n",
    "print(\"3.Multiply\")\n",
    "print(\"4.Divide\")\n",
    "print(\"5.Square Root\")\n",
    "print(\"6.Power of any Number\")\n",
    "\n",
    "while True:\n",
    "    # Take input from the user\n",
    "    choice = input(\"Enter choice(1/2/3/4/5/6): \")\n",
    "\n",
    "    # Check if choice is one of the six options\n",
    "    if choice in ('1', '2', '3', '4','6'):\n",
    "        x = float(input(\"Enter first number: \"))\n",
    "        y = float(input(\"Enter second number: \"))\n",
    "\n",
    "        if choice == '1':\n",
    "            print(add(x, y))\n",
    "\n",
    "        elif choice == '2':\n",
    "            print(substract(x, y))\n",
    "\n",
    "        elif choice == '3':\n",
    "            print(multiply(x, y))\n",
    "\n",
    "        elif choice == '4':\n",
    "            print(divide(x, y))\n",
    "            \n",
    "        elif choice== '6':\n",
    "            print(power(x,y))\n",
    "            \n",
    "    else:\n",
    "        print(\"Invalid Input\")\n",
    "    if choice== '5':\n",
    "        x = float(input(\"Enter the number: \"))\n",
    "        print(square_root(x))\n",
    "    break\n"
   ]
  }
 ],
 "metadata": {
  "kernelspec": {
   "display_name": "Python 3",
   "language": "python",
   "name": "python3"
  },
  "language_info": {
   "codemirror_mode": {
    "name": "ipython",
    "version": 3
   },
   "file_extension": ".py",
   "mimetype": "text/x-python",
   "name": "python",
   "nbconvert_exporter": "python",
   "pygments_lexer": "ipython3",
   "version": "3.7.6"
  }
 },
 "nbformat": 4,
 "nbformat_minor": 4
}
